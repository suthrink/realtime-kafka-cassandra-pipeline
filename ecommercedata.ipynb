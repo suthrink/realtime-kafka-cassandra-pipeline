{
 "cells": [
  {
   "cell_type": "code",
   "execution_count": 25,
   "id": "7f5782da-55e1-4cde-9ca4-b68ee5b2b6ae",
   "metadata": {},
   "outputs": [
    {
     "name": "stdout",
     "output_type": "stream",
     "text": [
      "Row(release_version='4.0.11-09ec37c912ed')\n",
      "4.0.11-09ec37c912ed\n"
     ]
    }
   ],
   "source": [
    "from cassandra.cluster import Cluster\n",
    "from cassandra.auth import PlainTextAuthProvider\n",
    "\n",
    "cloud_config= {\n",
    "  'secure_connect_bundle': 'secure-connect-cassandra-demo.zip'\n",
    "}\n",
    "auth_provider = PlainTextAuthProvider('Clientid', 'secretkey')\n",
    "cluster = Cluster(cloud=cloud_config, auth_provider=auth_provider)\n",
    "session = cluster.connect()\n",
    "\n",
    "row=session.execute(\"select release_version from system.local\").one()\n",
    "print(row)\n",
    "\n",
    "if row:\n",
    "    print(row[0])\n",
    "else:\n",
    "    print(\"An error occurred.\")"
   ]
  },
  {
   "cell_type": "code",
   "execution_count": 6,
   "id": "c1c2cc00-b181-42d2-9e81-ab09c6f69665",
   "metadata": {},
   "outputs": [
    {
     "name": "stdout",
     "output_type": "stream",
     "text": [
      "Inside the ecommerce\n"
     ]
    }
   ],
   "source": [
    "# Command to use a keyspace\n",
    "try:\n",
    "    query = \"use ecommerce\"\n",
    "    session.execute(query)\n",
    "    print(\"Inside the ecommerce\")\n",
    "except Exception as err:\n",
    "    print(\"Exception Occured while using Keyspace : \",err)"
   ]
  },
  {
   "cell_type": "code",
   "execution_count": 7,
   "id": "a4a41018-b85f-45da-accf-950e35df2760",
   "metadata": {},
   "outputs": [
    {
     "name": "stdout",
     "output_type": "stream",
     "text": [
      "Table created inside the keyspace\n"
     ]
    }
   ],
   "source": [
    "try:\n",
    "    query = \"\"\"CREATE TABLE ecommerce.orders ( order_id uuid,\n",
    "            customer_id uuid,\n",
    "            order_status text, order_purchase_timestamp timestamp, order_approved_at timestamp, order_delivered_carrier_date timestamp, order_delivered_customer_date timestamp, order_estimated_delivery_date timestamp, OrderHour int,\n",
    "            OrderDayOfWeek text,\n",
    "            PRIMARY KEY ((customer_id), order_id, order_purchase_timestamp))\"\"\"\n",
    "    session.execute(query)\n",
    "    print(\"Table created inside the keyspace\")\n",
    "except Exception as err:\n",
    "    print(\"Exception Occured while creating the table : \",err)\n",
    "    \n",
    "    "
   ]
  },
  {
   "cell_type": "code",
   "execution_count": null,
   "id": "1840b783-69b2-40be-bfac-2ff587d60df9",
   "metadata": {},
   "outputs": [],
   "source": []
  }
 ],
 "metadata": {
  "kernelspec": {
   "display_name": "Python 3 (ipykernel)",
   "language": "python",
   "name": "python3"
  },
  "language_info": {
   "codemirror_mode": {
    "name": "ipython",
    "version": 3
   },
   "file_extension": ".py",
   "mimetype": "text/x-python",
   "name": "python",
   "nbconvert_exporter": "python",
   "pygments_lexer": "ipython3",
   "version": "3.12.4"
  }
 },
 "nbformat": 4,
 "nbformat_minor": 5
}
